{
 "cells": [
  {
   "cell_type": "code",
   "execution_count": 1,
   "metadata": {},
   "outputs": [],
   "source": [
    "# Import libraries\n",
    "import glob\n",
    "import numpy as np\n",
    "import matplotlib.pyplot as plt\n",
    "#from scipy.signal import savgol_filter\n",
    "#import corner\n",
    "#from IPython.display import display, Math\n",
    "import cv2\n",
    "plt.rcParams['font.size'] = '17'"
   ]
  },
  {
   "cell_type": "code",
   "execution_count": 2,
   "metadata": {},
   "outputs": [],
   "source": [
    "FilenamesList = glob.glob('./Forward_Model/saida1_*.txt')\n",
    "img_array = []\n",
    "for file in sorted(FilenamesList):\n",
    "    title = file.replace('./Forward_Model/saida1_','').replace('.txt','')\n",
    "    abm_data = np.loadtxt(file)\n",
    "    fig, ax = plt.subplots(figsize=(10, 10),dpi=120)\n",
    "    invi=0.75\n",
    "    for line in abm_data:\n",
    "        if line[0]==-1:\n",
    "            ax.add_patch(plt.Circle((line[1], line[2]), line[3], color='black',fill=False))\n",
    "            plt.xlim((0,2*line[3]))\n",
    "            plt.ylim((0,2*line[3]))\n",
    "        elif line[0]==1:\n",
    "            ax.add_patch(plt.Circle((line[1], line[2]), line[3], edgecolor='black', facecolor=(0,0,1), alpha=invi))\n",
    "        elif line[0]==2:\n",
    "            ax.add_patch(plt.Circle((line[1], line[2]), line[3], edgecolor='black', facecolor=(0,1,0), alpha=invi))\n",
    "        elif line[0]==4:\n",
    "            ax.add_patch(plt.Circle((line[1], line[2]), line[3], edgecolor='black', facecolor=(1,0,0), alpha=invi))\n",
    "        elif line[0]==5:\n",
    "            ax.add_patch(plt.Circle((line[1], line[2]), line[3], edgecolor='black', facecolor=(1,1,0), alpha=invi))\n",
    "        elif line[0]==8:\n",
    "            ax.add_patch(plt.Circle((line[1], line[2]), line[3], edgecolor='black', facecolor=(1,0,1), alpha=invi))\n",
    "        else:\n",
    "            print(line[0])\n",
    "            ax.add_patch(plt.Circle((line[1], line[2]), line[3], edgecolor='black', facecolor=(0,0,0), alpha=invi))\n",
    "    plt.savefig('abm_solution_' + title + '.jpg', bbox_inches = 'tight', pad_inches = 0.02)\n",
    "    plt.close(fig)\n",
    "#    fig.canvas.draw()\n",
    "#    img = np.frombuffer(fig.canvas.tostring_rgb(), dtype=np.uint8)\n",
    "#    img  = img.reshape(fig.canvas.get_width_height()[::-1] + (3,))\n",
    "#    img = cv2.cvtColor(img,cv2.COLOR_RGB2BGR)\n",
    "#    height, width, layers = img.shape\n",
    "#    size = (width,height)\n",
    "#    img_array.append(img)\n",
    "#out = cv2.VideoWriter('project2.avi',cv2.VideoWriter_fourcc(*'DIVX'), 1, size)\n",
    "#for i in range(len(img_array)):\n",
    "#    out.write(img_array[i])\n",
    "#out.release()"
   ]
  },
  {
   "cell_type": "code",
   "execution_count": 5,
   "metadata": {},
   "outputs": [],
   "source": [
    "img_array = []\n",
    "for filename in sorted(glob.glob('abm_solution_*.jpg')):\n",
    "    img = cv2.imread(filename)\n",
    "    height, width, layers = img.shape\n",
    "    size = (width,height)\n",
    "    img_array.append(img)\n",
    "out = cv2.VideoWriter('project.avi',cv2.VideoWriter_fourcc(*'DIVX'), 3, size)\n",
    "for i in range(len(img_array)):\n",
    "    out.write(img_array[i])\n",
    "out.release()"
   ]
  },
  {
   "cell_type": "code",
   "execution_count": null,
   "metadata": {},
   "outputs": [],
   "source": []
  }
 ],
 "metadata": {
  "kernelspec": {
   "display_name": "Python 3",
   "language": "python",
   "name": "python3"
  },
  "language_info": {
   "codemirror_mode": {
    "name": "ipython",
    "version": 3
   },
   "file_extension": ".py",
   "mimetype": "text/x-python",
   "name": "python",
   "nbconvert_exporter": "python",
   "pygments_lexer": "ipython3",
   "version": "3.8.5"
  }
 },
 "nbformat": 4,
 "nbformat_minor": 4
}
